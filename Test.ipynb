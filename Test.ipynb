{
 "cells": [
  {
   "cell_type": "markdown",
   "metadata": {},
   "source": [
    "# Task 1"
   ]
  },
  {
   "cell_type": "code",
   "execution_count": 46,
   "metadata": {},
   "outputs": [],
   "source": [
    "import numpy as np\n",
    "import pandas as pd\n",
    "import seaborn as sns"
   ]
  },
  {
   "cell_type": "code",
   "execution_count": 47,
   "metadata": {},
   "outputs": [],
   "source": [
    "df = pd.DataFrame(pd.read_csv('~/Downloads/metabolites.csv'))"
   ]
  },
  {
   "cell_type": "code",
   "execution_count": 48,
   "metadata": {},
   "outputs": [
    {
     "data": {
      "text/plain": [
       "species        object\n",
       "genus          object\n",
       "group          object\n",
       "sucrose       float64\n",
       "alanin        float64\n",
       "citrate       float64\n",
       "glucose       float64\n",
       "oleic_acid    float64\n",
       "dtype: object"
      ]
     },
     "execution_count": 48,
     "metadata": {},
     "output_type": "execute_result"
    }
   ],
   "source": [
    "df.dtypes"
   ]
  },
  {
   "cell_type": "code",
   "execution_count": 49,
   "metadata": {},
   "outputs": [
    {
     "data": {
      "text/html": [
       "<div>\n",
       "<style scoped>\n",
       "    .dataframe tbody tr th:only-of-type {\n",
       "        vertical-align: middle;\n",
       "    }\n",
       "\n",
       "    .dataframe tbody tr th {\n",
       "        vertical-align: top;\n",
       "    }\n",
       "\n",
       "    .dataframe thead th {\n",
       "        text-align: right;\n",
       "    }\n",
       "</style>\n",
       "<table border=\"1\" class=\"dataframe\">\n",
       "  <thead>\n",
       "    <tr style=\"text-align: right;\">\n",
       "      <th></th>\n",
       "      <th>species</th>\n",
       "      <th>genus</th>\n",
       "      <th>group</th>\n",
       "      <th>sucrose</th>\n",
       "      <th>alanin</th>\n",
       "      <th>citrate</th>\n",
       "      <th>glucose</th>\n",
       "      <th>oleic_acid</th>\n",
       "    </tr>\n",
       "  </thead>\n",
       "  <tbody>\n",
       "    <tr>\n",
       "      <th>0</th>\n",
       "      <td>Fucus_vesiculosus</td>\n",
       "      <td>Fucus</td>\n",
       "      <td>brown</td>\n",
       "      <td>3.001472</td>\n",
       "      <td>3.711498</td>\n",
       "      <td>5.004262</td>\n",
       "      <td>2.548459</td>\n",
       "      <td>6.405165</td>\n",
       "    </tr>\n",
       "    <tr>\n",
       "      <th>1</th>\n",
       "      <td>Saccharina_japonica</td>\n",
       "      <td>Saccharina</td>\n",
       "      <td>brown</td>\n",
       "      <td>6.731070</td>\n",
       "      <td>1.255251</td>\n",
       "      <td>5.621499</td>\n",
       "      <td>6.013219</td>\n",
       "      <td>4.156700</td>\n",
       "    </tr>\n",
       "    <tr>\n",
       "      <th>2</th>\n",
       "      <td>Fucus_serratus</td>\n",
       "      <td>Fucus</td>\n",
       "      <td>brown</td>\n",
       "      <td>3.276870</td>\n",
       "      <td>0.346431</td>\n",
       "      <td>1.216767</td>\n",
       "      <td>3.623225</td>\n",
       "      <td>0.304573</td>\n",
       "    </tr>\n",
       "    <tr>\n",
       "      <th>3</th>\n",
       "      <td>Fucus_distichus</td>\n",
       "      <td>Fucus</td>\n",
       "      <td>brown</td>\n",
       "      <td>6.786996</td>\n",
       "      <td>6.641303</td>\n",
       "      <td>6.423606</td>\n",
       "      <td>2.272724</td>\n",
       "      <td>3.393203</td>\n",
       "    </tr>\n",
       "    <tr>\n",
       "      <th>4</th>\n",
       "      <td>Cladophora_fracta</td>\n",
       "      <td>Cladophora</td>\n",
       "      <td>green</td>\n",
       "      <td>3.861470</td>\n",
       "      <td>1.648450</td>\n",
       "      <td>6.940588</td>\n",
       "      <td>2.316955</td>\n",
       "      <td>2.528886</td>\n",
       "    </tr>\n",
       "  </tbody>\n",
       "</table>\n",
       "</div>"
      ],
      "text/plain": [
       "               species       genus  group   sucrose    alanin   citrate  \\\n",
       "0    Fucus_vesiculosus       Fucus  brown  3.001472  3.711498  5.004262   \n",
       "1  Saccharina_japonica  Saccharina  brown  6.731070  1.255251  5.621499   \n",
       "2       Fucus_serratus       Fucus  brown  3.276870  0.346431  1.216767   \n",
       "3      Fucus_distichus       Fucus  brown  6.786996  6.641303  6.423606   \n",
       "4    Cladophora_fracta  Cladophora  green  3.861470  1.648450  6.940588   \n",
       "\n",
       "    glucose  oleic_acid  \n",
       "0  2.548459    6.405165  \n",
       "1  6.013219    4.156700  \n",
       "2  3.623225    0.304573  \n",
       "3  2.272724    3.393203  \n",
       "4  2.316955    2.528886  "
      ]
     },
     "execution_count": 49,
     "metadata": {},
     "output_type": "execute_result"
    }
   ],
   "source": [
    "df.head()"
   ]
  },
  {
   "cell_type": "code",
   "execution_count": 50,
   "metadata": {},
   "outputs": [
    {
     "data": {
      "text/html": [
       "<div>\n",
       "<style scoped>\n",
       "    .dataframe tbody tr th:only-of-type {\n",
       "        vertical-align: middle;\n",
       "    }\n",
       "\n",
       "    .dataframe tbody tr th {\n",
       "        vertical-align: top;\n",
       "    }\n",
       "\n",
       "    .dataframe thead th {\n",
       "        text-align: right;\n",
       "    }\n",
       "</style>\n",
       "<table border=\"1\" class=\"dataframe\">\n",
       "  <thead>\n",
       "    <tr style=\"text-align: right;\">\n",
       "      <th></th>\n",
       "      <th>genus</th>\n",
       "      <th>sucrose_mean</th>\n",
       "      <th>alanin_mean</th>\n",
       "      <th>citrate_mean</th>\n",
       "      <th>glucose_mean</th>\n",
       "      <th>oleic_acid_mean</th>\n",
       "    </tr>\n",
       "  </thead>\n",
       "  <tbody>\n",
       "    <tr>\n",
       "      <th>0</th>\n",
       "      <td>Ascophyllum</td>\n",
       "      <td>6.825467</td>\n",
       "      <td>0.875429</td>\n",
       "      <td>5.253527</td>\n",
       "      <td>3.414961</td>\n",
       "      <td>2.432526</td>\n",
       "    </tr>\n",
       "    <tr>\n",
       "      <th>1</th>\n",
       "      <td>Cladophora</td>\n",
       "      <td>4.008792</td>\n",
       "      <td>3.997055</td>\n",
       "      <td>5.288311</td>\n",
       "      <td>2.800276</td>\n",
       "      <td>2.263472</td>\n",
       "    </tr>\n",
       "    <tr>\n",
       "      <th>2</th>\n",
       "      <td>Fucus</td>\n",
       "      <td>4.355112</td>\n",
       "      <td>3.566411</td>\n",
       "      <td>4.214878</td>\n",
       "      <td>2.814803</td>\n",
       "      <td>3.367647</td>\n",
       "    </tr>\n",
       "    <tr>\n",
       "      <th>3</th>\n",
       "      <td>Palmaria</td>\n",
       "      <td>0.704580</td>\n",
       "      <td>3.176440</td>\n",
       "      <td>5.573905</td>\n",
       "      <td>3.242090</td>\n",
       "      <td>2.245538</td>\n",
       "    </tr>\n",
       "    <tr>\n",
       "      <th>4</th>\n",
       "      <td>Saccharina</td>\n",
       "      <td>4.183596</td>\n",
       "      <td>3.524207</td>\n",
       "      <td>3.346710</td>\n",
       "      <td>4.980594</td>\n",
       "      <td>4.487252</td>\n",
       "    </tr>\n",
       "  </tbody>\n",
       "</table>\n",
       "</div>"
      ],
      "text/plain": [
       "         genus  sucrose_mean  alanin_mean  citrate_mean  glucose_mean  \\\n",
       "0  Ascophyllum      6.825467     0.875429      5.253527      3.414961   \n",
       "1   Cladophora      4.008792     3.997055      5.288311      2.800276   \n",
       "2        Fucus      4.355112     3.566411      4.214878      2.814803   \n",
       "3     Palmaria      0.704580     3.176440      5.573905      3.242090   \n",
       "4   Saccharina      4.183596     3.524207      3.346710      4.980594   \n",
       "\n",
       "   oleic_acid_mean  \n",
       "0         2.432526  \n",
       "1         2.263472  \n",
       "2         3.367647  \n",
       "3         2.245538  \n",
       "4         4.487252  "
      ]
     },
     "execution_count": 50,
     "metadata": {},
     "output_type": "execute_result"
    }
   ],
   "source": [
    "df_ave = df.groupby(\"genus\", as_index=False).aggregate({'sucrose': 'mean',\n",
    "                                        'alanin': 'mean',\n",
    "                                        'citrate': 'mean',\n",
    "                                        'glucose': 'mean',\n",
    "                                        'oleic_acid': 'mean'})\n",
    "\n",
    "df_ave = df_ave.rename(columns={'sucrose': 'sucrose_mean',\n",
    "                                'alanin': 'alanin_mean',\n",
    "                                'citrate': 'citrate_mean',\n",
    "                                'glucose': 'glucose_mean',\n",
    "                                'oleic_acid': 'oleic_acid_mean'})\n",
    "\n",
    "df_ave"
   ]
  },
  {
   "cell_type": "code",
   "execution_count": 51,
   "metadata": {},
   "outputs": [
    {
     "data": {
      "text/plain": [
       "['genus',\n",
       " 'sucrose_mean',\n",
       " 'alanin_mean',\n",
       " 'citrate_mean',\n",
       " 'glucose_mean',\n",
       " 'oleic_acid_mean']"
      ]
     },
     "execution_count": 51,
     "metadata": {},
     "output_type": "execute_result"
    }
   ],
   "source": [
    "list(df_ave)"
   ]
  },
  {
   "cell_type": "code",
   "execution_count": 52,
   "metadata": {
    "scrolled": true
   },
   "outputs": [
    {
     "data": {
      "text/html": [
       "<div>\n",
       "<style scoped>\n",
       "    .dataframe tbody tr th:only-of-type {\n",
       "        vertical-align: middle;\n",
       "    }\n",
       "\n",
       "    .dataframe tbody tr th {\n",
       "        vertical-align: top;\n",
       "    }\n",
       "\n",
       "    .dataframe thead th {\n",
       "        text-align: right;\n",
       "    }\n",
       "</style>\n",
       "<table border=\"1\" class=\"dataframe\">\n",
       "  <thead>\n",
       "    <tr style=\"text-align: right;\">\n",
       "      <th></th>\n",
       "      <th>genus</th>\n",
       "      <th>variable</th>\n",
       "      <th>value</th>\n",
       "    </tr>\n",
       "  </thead>\n",
       "  <tbody>\n",
       "    <tr>\n",
       "      <th>0</th>\n",
       "      <td>Ascophyllum</td>\n",
       "      <td>sucrose_mean</td>\n",
       "      <td>6.825467</td>\n",
       "    </tr>\n",
       "    <tr>\n",
       "      <th>1</th>\n",
       "      <td>Cladophora</td>\n",
       "      <td>sucrose_mean</td>\n",
       "      <td>4.008792</td>\n",
       "    </tr>\n",
       "    <tr>\n",
       "      <th>2</th>\n",
       "      <td>Fucus</td>\n",
       "      <td>sucrose_mean</td>\n",
       "      <td>4.355112</td>\n",
       "    </tr>\n",
       "    <tr>\n",
       "      <th>3</th>\n",
       "      <td>Palmaria</td>\n",
       "      <td>sucrose_mean</td>\n",
       "      <td>0.704580</td>\n",
       "    </tr>\n",
       "    <tr>\n",
       "      <th>4</th>\n",
       "      <td>Saccharina</td>\n",
       "      <td>sucrose_mean</td>\n",
       "      <td>4.183596</td>\n",
       "    </tr>\n",
       "    <tr>\n",
       "      <th>5</th>\n",
       "      <td>Ascophyllum</td>\n",
       "      <td>alanin_mean</td>\n",
       "      <td>0.875429</td>\n",
       "    </tr>\n",
       "    <tr>\n",
       "      <th>6</th>\n",
       "      <td>Cladophora</td>\n",
       "      <td>alanin_mean</td>\n",
       "      <td>3.997055</td>\n",
       "    </tr>\n",
       "    <tr>\n",
       "      <th>7</th>\n",
       "      <td>Fucus</td>\n",
       "      <td>alanin_mean</td>\n",
       "      <td>3.566411</td>\n",
       "    </tr>\n",
       "    <tr>\n",
       "      <th>8</th>\n",
       "      <td>Palmaria</td>\n",
       "      <td>alanin_mean</td>\n",
       "      <td>3.176440</td>\n",
       "    </tr>\n",
       "    <tr>\n",
       "      <th>9</th>\n",
       "      <td>Saccharina</td>\n",
       "      <td>alanin_mean</td>\n",
       "      <td>3.524207</td>\n",
       "    </tr>\n",
       "    <tr>\n",
       "      <th>10</th>\n",
       "      <td>Ascophyllum</td>\n",
       "      <td>citrate_mean</td>\n",
       "      <td>5.253527</td>\n",
       "    </tr>\n",
       "    <tr>\n",
       "      <th>11</th>\n",
       "      <td>Cladophora</td>\n",
       "      <td>citrate_mean</td>\n",
       "      <td>5.288311</td>\n",
       "    </tr>\n",
       "    <tr>\n",
       "      <th>12</th>\n",
       "      <td>Fucus</td>\n",
       "      <td>citrate_mean</td>\n",
       "      <td>4.214878</td>\n",
       "    </tr>\n",
       "    <tr>\n",
       "      <th>13</th>\n",
       "      <td>Palmaria</td>\n",
       "      <td>citrate_mean</td>\n",
       "      <td>5.573905</td>\n",
       "    </tr>\n",
       "    <tr>\n",
       "      <th>14</th>\n",
       "      <td>Saccharina</td>\n",
       "      <td>citrate_mean</td>\n",
       "      <td>3.346710</td>\n",
       "    </tr>\n",
       "    <tr>\n",
       "      <th>15</th>\n",
       "      <td>Ascophyllum</td>\n",
       "      <td>glucose_mean</td>\n",
       "      <td>3.414961</td>\n",
       "    </tr>\n",
       "    <tr>\n",
       "      <th>16</th>\n",
       "      <td>Cladophora</td>\n",
       "      <td>glucose_mean</td>\n",
       "      <td>2.800276</td>\n",
       "    </tr>\n",
       "    <tr>\n",
       "      <th>17</th>\n",
       "      <td>Fucus</td>\n",
       "      <td>glucose_mean</td>\n",
       "      <td>2.814803</td>\n",
       "    </tr>\n",
       "    <tr>\n",
       "      <th>18</th>\n",
       "      <td>Palmaria</td>\n",
       "      <td>glucose_mean</td>\n",
       "      <td>3.242090</td>\n",
       "    </tr>\n",
       "    <tr>\n",
       "      <th>19</th>\n",
       "      <td>Saccharina</td>\n",
       "      <td>glucose_mean</td>\n",
       "      <td>4.980594</td>\n",
       "    </tr>\n",
       "    <tr>\n",
       "      <th>20</th>\n",
       "      <td>Ascophyllum</td>\n",
       "      <td>oleic_acid_mean</td>\n",
       "      <td>2.432526</td>\n",
       "    </tr>\n",
       "    <tr>\n",
       "      <th>21</th>\n",
       "      <td>Cladophora</td>\n",
       "      <td>oleic_acid_mean</td>\n",
       "      <td>2.263472</td>\n",
       "    </tr>\n",
       "    <tr>\n",
       "      <th>22</th>\n",
       "      <td>Fucus</td>\n",
       "      <td>oleic_acid_mean</td>\n",
       "      <td>3.367647</td>\n",
       "    </tr>\n",
       "    <tr>\n",
       "      <th>23</th>\n",
       "      <td>Palmaria</td>\n",
       "      <td>oleic_acid_mean</td>\n",
       "      <td>2.245538</td>\n",
       "    </tr>\n",
       "    <tr>\n",
       "      <th>24</th>\n",
       "      <td>Saccharina</td>\n",
       "      <td>oleic_acid_mean</td>\n",
       "      <td>4.487252</td>\n",
       "    </tr>\n",
       "  </tbody>\n",
       "</table>\n",
       "</div>"
      ],
      "text/plain": [
       "          genus         variable     value\n",
       "0   Ascophyllum     sucrose_mean  6.825467\n",
       "1    Cladophora     sucrose_mean  4.008792\n",
       "2         Fucus     sucrose_mean  4.355112\n",
       "3      Palmaria     sucrose_mean  0.704580\n",
       "4    Saccharina     sucrose_mean  4.183596\n",
       "5   Ascophyllum      alanin_mean  0.875429\n",
       "6    Cladophora      alanin_mean  3.997055\n",
       "7         Fucus      alanin_mean  3.566411\n",
       "8      Palmaria      alanin_mean  3.176440\n",
       "9    Saccharina      alanin_mean  3.524207\n",
       "10  Ascophyllum     citrate_mean  5.253527\n",
       "11   Cladophora     citrate_mean  5.288311\n",
       "12        Fucus     citrate_mean  4.214878\n",
       "13     Palmaria     citrate_mean  5.573905\n",
       "14   Saccharina     citrate_mean  3.346710\n",
       "15  Ascophyllum     glucose_mean  3.414961\n",
       "16   Cladophora     glucose_mean  2.800276\n",
       "17        Fucus     glucose_mean  2.814803\n",
       "18     Palmaria     glucose_mean  3.242090\n",
       "19   Saccharina     glucose_mean  4.980594\n",
       "20  Ascophyllum  oleic_acid_mean  2.432526\n",
       "21   Cladophora  oleic_acid_mean  2.263472\n",
       "22        Fucus  oleic_acid_mean  3.367647\n",
       "23     Palmaria  oleic_acid_mean  2.245538\n",
       "24   Saccharina  oleic_acid_mean  4.487252"
      ]
     },
     "execution_count": 52,
     "metadata": {},
     "output_type": "execute_result"
    }
   ],
   "source": [
    "df_ave = df_ave.melt(id_vars = 'genus')\n",
    "df_ave"
   ]
  },
  {
   "cell_type": "code",
   "execution_count": 53,
   "metadata": {},
   "outputs": [
    {
     "data": {
      "text/plain": [
       "<matplotlib.axes._subplots.AxesSubplot at 0x7fc8781e3f10>"
      ]
     },
     "execution_count": 53,
     "metadata": {},
     "output_type": "execute_result"
    },
    {
     "data": {
      "image/png": "[encoded data removed]",
      "text/plain": [
       "<Figure size 864x792 with 1 Axes>"
      ]
     },
     "metadata": {},
     "output_type": "display_data"
    }
   ],
   "source": [
    "sns.set(rc={'figure.figsize':(12,11)})\n",
    "df_ave_graph = sns.barplot(x=\"genus\",\n",
    "                y=\"value\",\n",
    "                hue = 'variable',\n",
    "                data = df_ave)\n",
    "df_ave_graph"
   ]
  },
  {
   "cell_type": "markdown",
   "metadata": {},
   "source": [
    "# Task 2"
   ]
  },
  {
   "cell_type": "code",
   "execution_count": 62,
   "metadata": {},
   "outputs": [],
   "source": [
    "my_iter = map(lambda x: x % 3 == 0, [1, 2, 3, 4, 5, 6])"
   ]
  },
  {
   "cell_type": "code",
   "execution_count": 63,
   "metadata": {},
   "outputs": [
    {
     "data": {
      "text/plain": [
       "False"
      ]
     },
     "execution_count": 63,
     "metadata": {},
     "output_type": "execute_result"
    }
   ],
   "source": [
    "next(my_iter)"
   ]
  },
  {
   "cell_type": "code",
   "execution_count": 64,
   "metadata": {},
   "outputs": [
    {
     "ename": "StopIteration",
     "evalue": "",
     "output_type": "error",
     "traceback": [
      "\u001b[0;31m---------------------------------------------------------------------------\u001b[0m",
      "\u001b[0;31mStopIteration\u001b[0m                             Traceback (most recent call last)",
      "\u001b[0;32m<ipython-input-64-fb9cec301e32>\u001b[0m in \u001b[0;36m<module>\u001b[0;34m\u001b[0m\n\u001b[1;32m      1\u001b[0m \u001b[0;32mwhile\u001b[0m \u001b[0;32mTrue\u001b[0m\u001b[0;34m:\u001b[0m\u001b[0;34m\u001b[0m\u001b[0;34m\u001b[0m\u001b[0m\n\u001b[0;32m----> 2\u001b[0;31m     \u001b[0mnext\u001b[0m\u001b[0;34m(\u001b[0m\u001b[0mmy_iter\u001b[0m\u001b[0;34m)\u001b[0m\u001b[0;34m\u001b[0m\u001b[0;34m\u001b[0m\u001b[0m\n\u001b[0m",
      "\u001b[0;31mStopIteration\u001b[0m: "
     ]
    }
   ],
   "source": [
    "while True:\n",
    "    next(my_iter)"
   ]
  },
  {
   "cell_type": "code",
   "execution_count": 69,
   "metadata": {},
   "outputs": [],
   "source": [
    "my_iter = map(lambda x: x % 3 == 0, [1, 2, 3, 4, 5, 6])"
   ]
  },
  {
   "cell_type": "code",
   "execution_count": 70,
   "metadata": {},
   "outputs": [],
   "source": [
    "while True:\n",
    "    try:\n",
    "        next(my_iter)\n",
    "    except StopIteration:\n",
    "        break"
   ]
  },
  {
   "cell_type": "markdown",
   "metadata": {},
   "source": [
    "# Task 3"
   ]
  },
  {
   "cell_type": "code",
   "execution_count": 71,
   "metadata": {},
   "outputs": [],
   "source": [
    "import requests"
   ]
  },
  {
   "cell_type": "code",
   "execution_count": 87,
   "metadata": {},
   "outputs": [],
   "source": [
    "numbers = [17, 45, 999, 1883]"
   ]
  }
 ],
 "metadata": {
  "kernelspec": {
   "display_name": "Python 3",
   "language": "python",
   "name": "python3"
  },
  "language_info": {
   "codemirror_mode": {
    "name": "ipython",
    "version": 3
   },
   "file_extension": ".py",
   "mimetype": "text/x-python",
   "name": "python",
   "nbconvert_exporter": "python",
   "pygments_lexer": "ipython3",
   "version": "3.7.6"
  }
 },
 "nbformat": 4,
 "nbformat_minor": 4
}
