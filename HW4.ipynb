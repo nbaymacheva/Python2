{
 "cells": [
  {
   "cell_type": "code",
   "execution_count": 1,
   "metadata": {},
   "outputs": [],
   "source": [
    "from itertools import chain"
   ]
  },
  {
   "cell_type": "code",
   "execution_count": 2,
   "metadata": {},
   "outputs": [],
   "source": [
    "mass_dict = {'A':71.03711,\n",
    "'C':103.00919,\n",
    "'D':115.02694,\n",
    "'E':129.04259,\n",
    "'F':147.06841,\n",
    "'G':57.02146,\n",
    "'H':137.05891,\n",
    "'I':113.08406,\n",
    "'K':128.09496,\n",
    "'L':113.08406,\n",
    "'M':131.04049,\n",
    "'N':114.04293,\n",
    "'P':97.05276,\n",
    "'Q':128.05858,\n",
    "'R':156.10111,\n",
    "'S':87.03203,\n",
    "'T':101.04768,\n",
    "'V':99.06841,\n",
    "'W':186.07931,\n",
    "'Y':163.06333}"
   ]
  },
  {
   "cell_type": "code",
   "execution_count": 3,
   "metadata": {},
   "outputs": [],
   "source": [
    "def mass_spec(L):\n",
    "    l = len(L)\n",
    "    l_1 = l-1\n",
    "    weights = [round((L[i+1] - L[i]), 5) for i in range(l_1)]\n",
    "    protein = [[key for key, value in mass_dict.items() if round(value, 4) == weights[i]] for i in range(l_1)]\n",
    "    return ''.join(list(chain(*protein)))"
   ]
  },
  {
   "cell_type": "code",
   "execution_count": 4,
   "metadata": {},
   "outputs": [
    {
     "data": {
      "text/plain": [
       "'WMQS'"
      ]
     },
     "execution_count": 4,
     "metadata": {},
     "output_type": "execute_result"
    }
   ],
   "source": [
    "L = [3524.8542, 3710.9335, 3841.974, 3970.0326, 4057.0646]\n",
    "mass_spec(L)"
   ]
  }
 ],
 "metadata": {
  "kernelspec": {
   "display_name": "Python 3",
   "language": "python",
   "name": "python3"
  },
  "language_info": {
   "codemirror_mode": {
    "name": "ipython",
    "version": 3
   },
   "file_extension": ".py",
   "mimetype": "text/x-python",
   "name": "python",
   "nbconvert_exporter": "python",
   "pygments_lexer": "ipython3",
   "version": "3.7.6"
  }
 },
 "nbformat": 4,
 "nbformat_minor": 4
}
